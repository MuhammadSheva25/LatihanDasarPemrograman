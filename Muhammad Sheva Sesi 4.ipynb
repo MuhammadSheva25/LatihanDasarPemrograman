{
 "cells": [
  {
   "cell_type": "markdown",
   "metadata": {},
   "source": [
    "<h1>Praktikum Variabel & Tipe Data</h1>\n",
    "\n",
    "<h3>Soal 1</h3>\n",
    "Kiki belanja ke alf$$a M$a$r$t membeli 3 hepitos, 2 silperkuin, telor 2kg, beras 5kg, isi ulang akua galon seharga Rp 13.000. Harga hepitos yaitu Rp 15.000, telor Rp 13.000/kg, silperkuin Rp 21.000 beras kemasan 2.5kg seharga Rp 20.000. Toko tersebut memberikan discount 5%, ketika customer membeli makanan lebih dari 3 jenis. Berapakah total bayar belanjaan dari Kiki?\n"
   ]
  },
  {
   "cell_type": "markdown",
   "metadata": {},
   "source": [
    "<h1>Analyze Here</h1>\n",
    "....."
   ]
  },
  {
   "cell_type": "code",
   "execution_count": 63,
   "metadata": {},
   "outputs": [
    {
     "name": "stdout",
     "output_type": "stream",
     "text": [
      "Total belanja: Rp 157700\n"
     ]
    }
   ],
   "source": [
    "# pisahkan produk berdasrkan jenisnya (minuman, makanan, lain - lain)\n",
    "products = [\n",
    "    {'name': 'hepitos', 'type': 'food', 'price': 15000, 'qnty': 3},\n",
    "    {'name': 'silperkuin', 'type': 'food', 'price': 21000, 'qnty': 2},\n",
    "    {'name': 'telor', 'type': 'food', 'price': 13000, 'qnty': 2},\n",
    "    {'name': 'beras 2kg', 'type': 'food', 'price': 20000, 'qnty': 2},\n",
    "    {'name': 'isi ulang galon', 'type': 'drink', 'price': 13000, 'qnty': 1},\n",
    "]\n",
    "\n",
    "# check jumlah produk dengan type 'food' dalam list\n",
    "food = 0\n",
    "for i, p in enumerate(products):\n",
    "    if p['type'] == 'food':\n",
    "        food += 1\n",
    "\n",
    "# jika food > 3 maka eligible untuk diskon 5%\n",
    "total = 0\n",
    "if food > 3:\n",
    "    for i, p in enumerate(products):\n",
    "        total += p['price'] * p['qnty']\n",
    "    diskon = total * 0.05\n",
    "    total -= diskon\n",
    "\n",
    "print(f\"Total belanja: Rp {int(total)}\")"
   ]
  },
  {
   "cell_type": "markdown",
   "metadata": {},
   "source": [
    "<h3>Soal 2</h3>\n",
    "Roni menabung pada bulan agustus yaitu setiap tanggal ganjil sejumlah Rp 50.000, setiap tanggal genap sejumlah RP 10.000 dan setiap tanggal kelipatan 5 sejumlah Rp 5.000, Berapakah total tabungan Roni diakhir bulan?"
   ]
  },
  {
   "cell_type": "markdown",
   "metadata": {},
   "source": [
    "<h1>Analyze Here</h1>\n",
    "....."
   ]
  },
  {
   "cell_type": "code",
   "execution_count": 64,
   "metadata": {},
   "outputs": [
    {
     "name": "stdout",
     "output_type": "stream",
     "text": [
      "Total tabungan: Rp 800000\n"
     ]
    }
   ],
   "source": [
    "tabungan = 0\n",
    "\n",
    "# dengan asumsi bahwa terdapat 31 hari di bulan agustus\n",
    "for day in range(1, 32):\n",
    "    if day % 5 == 0:\n",
    "        tabungan += 5000\n",
    "    elif day % 2 == 0:\n",
    "        tabungan += 10000\n",
    "    else:\n",
    "        tabungan += 50000\n",
    "\n",
    "print(f\"Total tabungan: Rp {tabungan}\")"
   ]
  },
  {
   "cell_type": "markdown",
   "metadata": {},
   "source": [
    "<h3>Soal 3</h3>\n",
    "Saat hari raya, Deni ingin menukarkan uang sejumlah Rp 5.000.000 ke pecahan 20rb, 10rb, 5rb, 2rb. berapa jumlahnya yang didapatkan Deni jika 20rb maksimal 100, 10rb maksimal 50.Jika :\n",
    "<ol>\n",
    "    <li>3(a)Semua pecahan harus ada</li>\n",
    "    <li>3(b)Hanya pecahan 20rb, 10rb dan 5rb</li>\n",
    "    <li>3(c)Hanya pecahan 20rb, 10rb dan 2rb</li>\n",
    "</ol>"
   ]
  },
  {
   "cell_type": "markdown",
   "metadata": {},
   "source": [
    "<h1>Analyze Here</h1>\n",
    "....."
   ]
  },
  {
   "cell_type": "code",
   "execution_count": 65,
   "metadata": {},
   "outputs": [
    {
     "name": "stdout",
     "output_type": "stream",
     "text": [
      "Untuk semua pecahan\n",
      "Deni menukarkan uang sebesar 5000000 dan mendapatkan: \n",
      "100 lembar pecahan 20000 dengan total 2000000\n",
      "50 lembar pecahan 10000 dengan total 500000\n",
      "400 lembar pecahan 5000 dengan total 2000000\n",
      "250 lembar pecahan 2000 dengan total 500000\n",
      "\n",
      "Untuk pecahan 20_000, 10_000, 5_000\n",
      "Deni menukarkan uang sebesar 5000000 dan mendapatkan: \n",
      "100 lembar pecahan 20000 dengan total 2000000\n",
      "50 lembar pecahan 10000 dengan total 500000\n",
      "500 lembar pecahan 5000 dengan total 2500000\n",
      "\n",
      "Untuk pecahan 20_000, 10_000, 2_000\n",
      "Deni menukarkan uang sebesar 5000000 dan mendapatkan: \n",
      "100 lembar pecahan 20000 dengan total 2000000\n",
      "50 lembar pecahan 10000 dengan total 500000\n",
      "1250 lembar pecahan 2000 dengan total 2500000\n",
      "\n"
     ]
    }
   ],
   "source": [
    "uang = 5_000_000\n",
    "\n",
    "def cari_pecahan(pecahan, max_pchn, max_nom):\n",
    "    amnt_pecahan = 0\n",
    "    hitung_pecahan = 0\n",
    "\n",
    "    while hitung_pecahan <= max_nom:\n",
    "        if amnt_pecahan >= max_pchn:\n",
    "            break\n",
    "        else:\n",
    "            amnt_pecahan += 1\n",
    "        hitung_pecahan += pecahan\n",
    "\n",
    "    return (amnt_pecahan, pecahan, hitung_pecahan)\n",
    "\n",
    "# untuk semua pecahan\n",
    "pecahan = [\n",
    "    cari_pecahan(20_000, 100, uang),\n",
    "    cari_pecahan(10_000, 50, uang),\n",
    "    cari_pecahan(5000, 400, uang),\n",
    "    cari_pecahan(2000, 250, uang)\n",
    "]\n",
    "\n",
    "def print_hasil():\n",
    "    print(f\"Deni menukarkan uang sebesar {uang} dan mendapatkan: \")\n",
    "    for i in pecahan:\n",
    "        print(f\"{i[0]} lembar pecahan {i[1]} dengan total {i[2]}\")\n",
    "    print('')\n",
    "\n",
    "\n",
    "print('Untuk semua pecahan')\n",
    "print_hasil()\n",
    "\n",
    "# jika hanya dibutuhkan pecahan 20_000, 10_000, 5_000\n",
    "pecahan = [\n",
    "    cari_pecahan(20_000, 100, uang),\n",
    "    cari_pecahan(10_000, 50, uang),\n",
    "    cari_pecahan(5000, 500, uang),\n",
    "]\n",
    "\n",
    "print('Untuk pecahan 20_000, 10_000, 5_000')\n",
    "print_hasil()\n",
    "\n",
    "# Jika hanya dibutuhkan pecahan 20_000, 10_000, 2_000\n",
    "pecahan = [\n",
    "    cari_pecahan(20_000, 100, uang),\n",
    "    cari_pecahan(10_000, 50, uang),\n",
    "    cari_pecahan(2000, 1250, uang)\n",
    "]\n",
    "\n",
    "print('Untuk pecahan 20_000, 10_000, 2_000')\n",
    "print_hasil()"
   ]
  },
  {
   "cell_type": "markdown",
   "metadata": {},
   "source": [
    "<h3>Soal 4</h3>\n",
    "Berapakah hasil dari (10/23-6+4-(20//3%2)) ?\n",
    "Lakukan analisa perhitungan dari hasil tersebut!\n",
    "Berdasarkan hasil tersebut urutkan operator yang dikerjakan!"
   ]
  },
  {
   "cell_type": "markdown",
   "metadata": {},
   "source": [
    "<h1>Analyze Here</h1>\n",
    "....."
   ]
  },
  {
   "cell_type": "code",
   "execution_count": 66,
   "metadata": {},
   "outputs": [
    {
     "name": "stdout",
     "output_type": "stream",
     "text": [
      "Hasil: -1.5652173913043477\n",
      "-1.5652173913043477\n"
     ]
    }
   ],
   "source": [
    "perhitungan = (10 / 23 - 6 + 4 - (20 // 3 % 2))\n",
    "print(\"Hasil:\", perhitungan)\n",
    "\n",
    "# ANALISA\n",
    "# Python menggunakan menggunakan peraturan yang mirip dengan PEMDAS dalam operasi artimatikanya\n",
    "# Ini artinya proses maritmatika dalam python secara berurutan\n",
    "# Parerntheses -> multipication and division -> substraction and adition\n",
    "# Ini dibaca dari kiri ke kanan, maka urutan pengerjaan perhitugnan diatas adalah\n",
    "\n",
    "# 1. (20 // 3 % 2) -> karena berada di dalam kurung (parentheses); katakan lah hasilnya a\n",
    "# 2. 10 / 23 -> karena merupakan pembagian; dan katakan lah hasilnya = x\n",
    "# 3. x - 6 -> katakanlah hasilnya y\n",
    "# 4. y - 4 -> katakanlah hasilnya z\n",
    "# 5. z - a\n",
    "\n",
    "# Pembuktian\n",
    "a = (20 // 3 % 2)\n",
    "x = 10 / 23\n",
    "y = x - 6\n",
    "z = y + 4\n",
    "print(z - a)"
   ]
  },
  {
   "cell_type": "markdown",
   "metadata": {},
   "source": [
    "<h3>Soal 5</h3>\n",
    "Jika terdapat string yaitu \"UFLOPYXTKJACSWRBGQZVDMEHIN\", maka susunlah nama kalian masing-masing dari data tersebut, berdasarkan index dari masing-masing huruf yang ada pada string tersebut!\n"
   ]
  },
  {
   "cell_type": "markdown",
   "metadata": {},
   "source": [
    "<h1>Analyze Here</h1>\n",
    "....."
   ]
  },
  {
   "cell_type": "code",
   "execution_count": 67,
   "metadata": {},
   "outputs": [
    {
     "name": "stdout",
     "output_type": "stream",
     "text": [
      "MUHAMMAD SHEVA\n"
     ]
    }
   ],
   "source": [
    "s = \"UFLOPYXTKJACSWRBGQZVDMEHIN\"\n",
    "\n",
    "nama_depan = s[21] + s[0] + s[23] + s[10] + s[21] + s[21] + s[10] + s[20]\n",
    "nama_belakang = s[12] + s[23] + s[22] + s[19] + s[10]\n",
    "\n",
    "print(nama_depan, nama_belakang)"
   ]
  }
 ],
 "metadata": {
  "kernelspec": {
   "display_name": "Python 3.9.12 ('base')",
   "language": "python",
   "name": "python3"
  },
  "language_info": {
   "codemirror_mode": {
    "name": "ipython",
    "version": 3
   },
   "file_extension": ".py",
   "mimetype": "text/x-python",
   "name": "python",
   "nbconvert_exporter": "python",
   "pygments_lexer": "ipython3",
   "version": "3.9.12"
  },
  "vscode": {
   "interpreter": {
    "hash": "3e8ee21d47014f860b226b017d38bde9730d2c88f8fc413601573751b20a205b"
   }
  }
 },
 "nbformat": 4,
 "nbformat_minor": 4
}
